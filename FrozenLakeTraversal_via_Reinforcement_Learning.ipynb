{
 "cells": [
  {
   "cell_type": "markdown",
   "metadata": {},
   "source": [
    "# Introduction\n",
    "\n",
    "Link to the problem [FrozenLake-v0](https://gym.openai.com/envs/FrozenLake-v0/).   \n",
    "The agent controls the movement of a character in a grid world. Some tiles of the grid are walkable, and others lead to the agent falling into the water. Additionally, the movement direction of the agent is uncertain and only partially depends on the chosen direction. The agent is rewarded for finding a walkable path to a goal tile. \n",
    "\n",
    "Solve FrozenLake using first principles (just using numpy). The solution must be of the form of a learning algorithm (jupyter notebook) that can learn to reach goal after a series of training exercises."
   ]
  },
  {
   "cell_type": "code",
   "execution_count": 1,
   "metadata": {
    "ExecuteTime": {
     "end_time": "2019-04-27T04:28:58.705999Z",
     "start_time": "2019-04-27T04:28:56.525232Z"
    }
   },
   "outputs": [],
   "source": [
    "import numpy as np\n",
    "import gym\n",
    "import random\n",
    "import matplotlib.pyplot as plt\n",
    "np.random.seed = 29"
   ]
  },
  {
   "cell_type": "code",
   "execution_count": 2,
   "metadata": {
    "ExecuteTime": {
     "end_time": "2019-04-27T04:29:02.445365Z",
     "start_time": "2019-04-27T04:28:58.711013Z"
    }
   },
   "outputs": [],
   "source": [
    "env = gym.make(\"FrozenLake-v0\")"
   ]
  },
  {
   "cell_type": "markdown",
   "metadata": {},
   "source": [
    " `The surface is described using the below grid\n",
    "        SFFF\n",
    "        FHFH\n",
    "        FFFH\n",
    "        HFFG\n",
    "    S : starting point, safe\n",
    "    F : frozen surface, safe\n",
    "    H : hole, fall to your doom\n",
    "    G : goal, where the frisbee is located`\n",
    "\n",
    "The episode ends when you reach the goal or fall in a hole. You receive a reward of 1 if you reach the goal, and zero otherwise.\n",
    "\n",
    "The actions that the agent can take = `LEFT, DOWN, RIGHT, UP` and the indices that denote these actions are given below  \n",
    "`LEFT = 0\n",
    " DOWN = 1\n",
    " RIGHT = 2\n",
    " UP = 3`"
   ]
  },
  {
   "cell_type": "code",
   "execution_count": 3,
   "metadata": {
    "ExecuteTime": {
     "end_time": "2019-04-27T04:29:02.451983Z",
     "start_time": "2019-04-27T04:29:02.446974Z"
    }
   },
   "outputs": [],
   "source": [
    "direction = {0:'LEFT ', 1:'DOWN ', 2:'RIGHT', 3:'UP   '}"
   ]
  },
  {
   "cell_type": "markdown",
   "metadata": {},
   "source": [
    "## Depicting one attempt\n",
    "Lets see the game in action by checking out the walking pattern of the agent "
   ]
  },
  {
   "cell_type": "code",
   "execution_count": 4,
   "metadata": {
    "ExecuteTime": {
     "end_time": "2019-04-27T04:29:02.519157Z",
     "start_time": "2019-04-27T04:29:02.456993Z"
    },
    "scrolled": false
   },
   "outputs": [
    {
     "name": "stdout",
     "output_type": "stream",
     "text": [
      "\n",
      "\u001b[41mS\u001b[0mFFF\n",
      "FHFH\n",
      "FFFH\n",
      "HFFG\n",
      "  (Right)\n",
      "\u001b[41mS\u001b[0mFFF\n",
      "FHFH\n",
      "FFFH\n",
      "HFFG\n",
      "  (Down)\n",
      "SFFF\n",
      "\u001b[41mF\u001b[0mHFH\n",
      "FFFH\n",
      "HFFG\n",
      "  (Left)\n",
      "SFFF\n",
      "FHFH\n",
      "\u001b[41mF\u001b[0mFFH\n",
      "HFFG\n",
      "  (Up)\n",
      "SFFF\n",
      "FHFH\n",
      "\u001b[41mF\u001b[0mFFH\n",
      "HFFG\n",
      "  (Down)\n",
      "SFFF\n",
      "FHFH\n",
      "F\u001b[41mF\u001b[0mFH\n",
      "HFFG\n",
      "  (Up)\n",
      "SFFF\n",
      "FHFH\n",
      "\u001b[41mF\u001b[0mFFH\n",
      "HFFG\n",
      "  (Left)\n",
      "SFFF\n",
      "FHFH\n",
      "\u001b[41mF\u001b[0mFFH\n",
      "HFFG\n",
      "  (Left)\n",
      "SFFF\n",
      "\u001b[41mF\u001b[0mHFH\n",
      "FFFH\n",
      "HFFG\n",
      "  (Right)\n",
      "SFFF\n",
      "F\u001b[41mH\u001b[0mFH\n",
      "FFFH\n",
      "HFFG\n",
      "9 steps to complete\n"
     ]
    }
   ],
   "source": [
    "observation = env.reset()\n",
    "env.render()\n",
    "for i in range(100):\n",
    "    observation, reward, done, info = env.step(env.action_space.sample())\n",
    "    env.render()\n",
    "    if done: \n",
    "        print('{} steps to complete'.format(i+1))\n",
    "        break\n",
    "env.close()"
   ]
  },
  {
   "cell_type": "markdown",
   "metadata": {},
   "source": [
    "Notice that though the agent is instructed to go in a particular direction, he doesnt necassariy get there due to slipperiness of the ice. "
   ]
  },
  {
   "cell_type": "markdown",
   "metadata": {},
   "source": [
    "# Training the Agent"
   ]
  },
  {
   "cell_type": "markdown",
   "metadata": {},
   "source": [
    " ## Random walk\n",
    " Let us compute the probability that the agent ends up at the 'Goal' if he randomly selects his direction. We could have computed this analytically if the ice werent slippery, i.e., the actions were deterministic. "
   ]
  },
  {
   "cell_type": "code",
   "execution_count": 5,
   "metadata": {
    "ExecuteTime": {
     "end_time": "2019-04-27T04:29:03.618064Z",
     "start_time": "2019-04-27T04:29:02.525178Z"
    },
    "scrolled": true
   },
   "outputs": [
    {
     "name": "stdout",
     "output_type": "stream",
     "text": [
      "Success Percentage = 1.47 %\n",
      "Average number of steps taken to reach the goal = 7.60\n"
     ]
    }
   ],
   "source": [
    "n, max_steps = 10000, 100\n",
    "total_reward = 0\n",
    "num_steps = []\n",
    "for episode in range(n):\n",
    "    observation = env.reset()\n",
    "    for i in range(max_steps):\n",
    "        observation, reward, done, info = env.step(env.action_space.sample())\n",
    "        if done: \n",
    "            total_reward += reward\n",
    "            num_steps.append(i+1)\n",
    "            break\n",
    "env.close()\n",
    "print('Success Percentage = {0:.2f} %'.format(100*total_reward/n))\n",
    "print('Average number of steps taken to reach the goal = {0:.2f}'.format(np.mean(num_steps)))"
   ]
  },
  {
   "cell_type": "markdown",
   "metadata": {},
   "source": [
    "## Training a Q-Table for Slippery Conditions"
   ]
  },
  {
   "cell_type": "markdown",
   "metadata": {},
   "source": [
    "Q (Quality) - table is a num_state x num_action dimension table that is obtained by training on the map. For each state, it stores values proportional to the reward that can be obtained by taking each of the num_actions actions. In other words, if we were to have a fully trained Q-table, then the optimal action to take when we are in i-th state would be `argmax(qtable[i, :])`. If the action was deterministic, then the any action leading to a hole should store 0, and an action leading to the goal would store a large value.  \n",
    "\n",
    "Every episode, we update this table by observing the reward that is obtained by taking that step as below"
   ]
  },
  {
   "cell_type": "markdown",
   "metadata": {},
   "source": [
    "$Q(s, a) = Q(s, a) + \\alpha*\\left( R(s, a) + \\gamma \\max_{a'} Q(s', a') - Q(s, a) \\right)$"
   ]
  },
  {
   "cell_type": "markdown",
   "metadata": {},
   "source": [
    "Here \n",
    "* Q(s, a) = q-table value for state s and action a\n",
    "* $\\alpha$ = Learning Rate\n",
    "* R(s, a) = Reward obtained by performing action a from state s\n",
    "* $\\gamma$ = Discount Factor used to balance immediate and future reward\n",
    "* s' = Destination state from state s and action a\n",
    "* a' = Maximizing over all the actions from the destination state s'"
   ]
  },
  {
   "cell_type": "code",
   "execution_count": 6,
   "metadata": {
    "ExecuteTime": {
     "end_time": "2019-04-27T04:29:03.662180Z",
     "start_time": "2019-04-27T04:29:03.621073Z"
    }
   },
   "outputs": [],
   "source": [
    "# Initialize the q-table to all zeros\n",
    "num_actions = env.action_space.n\n",
    "num_states = env.observation_space.n\n",
    "q_table = np.zeros((num_states, num_actions))"
   ]
  },
  {
   "cell_type": "code",
   "execution_count": 7,
   "metadata": {
    "ExecuteTime": {
     "end_time": "2019-04-27T04:29:03.696273Z",
     "start_time": "2019-04-27T04:29:03.667197Z"
    }
   },
   "outputs": [],
   "source": [
    "# Q-table update parameters\n",
    "alpha = 0.8\n",
    "gamma = 0.95\n",
    "\n",
    "# Exploration paramters\n",
    "max_epsilon = 1.0\n",
    "min_epsilon = 0.01\n",
    "decay_rate = 0.005"
   ]
  },
  {
   "cell_type": "code",
   "execution_count": 8,
   "metadata": {
    "ExecuteTime": {
     "end_time": "2019-04-27T04:29:16.720958Z",
     "start_time": "2019-04-27T04:29:03.701283Z"
    },
    "scrolled": true
   },
   "outputs": [],
   "source": [
    "rewards = []\n",
    "epsilon = max_epsilon\n",
    "n, max_steps = 15000, 100\n",
    "for episode in range(n):\n",
    "    s = env.reset()\n",
    "    total_reward = 0\n",
    "    for i in range(max_steps):\n",
    "        if random.uniform(0, 1) < epsilon:\n",
    "            a = env.action_space.sample()\n",
    "        else:\n",
    "            a = np.argmax(q_table[s, :])\n",
    "        \n",
    "        s_new, r, done, info = env.step(a)\n",
    "        \n",
    "        q_table[s, a] = q_table[s, a] + alpha*(r + gamma*np.max(q_table[s_new, :]) - q_table[s, a])\n",
    "        s, total_reward = s_new, total_reward+r\n",
    "        if done: \n",
    "            rewards.append(total_reward)\n",
    "            epsilon = min_epsilon + (max_epsilon-min_epsilon)*np.exp(-decay_rate*episode)\n",
    "            break\n",
    "env.close()"
   ]
  },
  {
   "cell_type": "code",
   "execution_count": 9,
   "metadata": {
    "ExecuteTime": {
     "end_time": "2019-04-27T04:29:16.729734Z",
     "start_time": "2019-04-27T04:29:16.722712Z"
    },
    "scrolled": true
   },
   "outputs": [
    {
     "name": "stdout",
     "output_type": "stream",
     "text": [
      "[[0.09431 0.09412 0.06066 0.06647]\n",
      " [0.00094 0.01847 0.00024 0.03728]\n",
      " [0.01287 0.01555 0.03373 0.03315]\n",
      " [0.00413 0.02607 0.0247  0.03437]\n",
      " [0.07051 0.06921 0.0298  0.04007]\n",
      " [0.      0.      0.      0.     ]\n",
      " [0.00001 0.00004 0.00032 0.00001]\n",
      " [0.      0.      0.      0.     ]\n",
      " [0.01495 0.02281 0.01113 0.06635]\n",
      " [0.00739 0.58031 0.02034 0.01389]\n",
      " [0.12254 0.0055  0.01673 0.00889]\n",
      " [0.      0.      0.      0.     ]\n",
      " [0.      0.      0.      0.     ]\n",
      " [0.08084 0.09506 0.52569 0.02073]\n",
      " [0.07589 0.90878 0.06085 0.19505]\n",
      " [0.      0.      0.      0.     ]]\n"
     ]
    }
   ],
   "source": [
    "with np.printoptions(precision=5, suppress=True):\n",
    "    print(q_table)"
   ]
  },
  {
   "cell_type": "code",
   "execution_count": 10,
   "metadata": {
    "ExecuteTime": {
     "end_time": "2019-04-27T04:29:16.795905Z",
     "start_time": "2019-04-27T04:29:16.733741Z"
    }
   },
   "outputs": [
    {
     "name": "stdout",
     "output_type": "stream",
     "text": [
      "\n",
      "\u001b[41mS\u001b[0mFFF\n",
      "FHFH\n",
      "FFFH\n",
      "HFFG\n"
     ]
    }
   ],
   "source": [
    "# 0: LEFT, 1: DOWN, 2: RIGHT, 3: UP\n",
    "env.reset()\n",
    "env.render()"
   ]
  },
  {
   "cell_type": "markdown",
   "metadata": {},
   "source": [
    "**Observations** \n",
    "* States 5, 7, 11, 12 and 15 all have 0-values for all actions. This is because these states are all 'sinks'. The game is over whenever we land up in this state. While 5, 7, 11 and 12 states correspond to 'Hole' where game ends with 0 reward, state 15 correspond to 'Goal' which ends with a 1 reward. "
   ]
  },
  {
   "cell_type": "markdown",
   "metadata": {},
   "source": [
    "Let us plot the mean reward over time and see how our agent has learned over the training period"
   ]
  },
  {
   "cell_type": "code",
   "execution_count": 12,
   "metadata": {
    "ExecuteTime": {
     "end_time": "2019-04-27T04:29:17.260134Z",
     "start_time": "2019-04-27T04:29:16.835009Z"
    },
    "scrolled": false
   },
   "outputs": [
    {
     "data": {
      "image/png": "[encoded data removed]",
      "text/plain": [
       "<Figure size 576x576 with 1 Axes>"
      ]
     },
     "metadata": {
      "needs_background": "light"
     },
     "output_type": "display_data"
    }
   ],
   "source": [
    "moving_avg_reward = []\n",
    "window = 1000\n",
    "for i in range(window, n):\n",
    "    moving_avg_reward.append(sum(rewards[i-window:i])/window)\n",
    "\n",
    "fig, axes = plt.subplots(figsize=(8, 8))\n",
    "plt.plot(range(window, n), moving_avg_reward)\n",
    "axes.set(xlabel='Episode Idx', ylabel='Expected Reward', title='Expected reward with a moving average with window size = {}'.format(window))\n",
    "plt.show()"
   ]
  },
  {
   "cell_type": "markdown",
   "metadata": {},
   "source": [
    "We see that the agent has learned fairly well. From an initial probability of ~0.015 (via random walk), it now can reach the goal with a probability of 0.55 using the q_table decision"
   ]
  },
  {
   "cell_type": "markdown",
   "metadata": {},
   "source": [
    "Let us check what the agents action would be at each state"
   ]
  },
  {
   "cell_type": "code",
   "execution_count": 13,
   "metadata": {
    "ExecuteTime": {
     "end_time": "2019-04-27T04:29:17.270162Z",
     "start_time": "2019-04-27T04:29:17.262138Z"
    },
    "scrolled": true
   },
   "outputs": [
    {
     "name": "stdout",
     "output_type": "stream",
     "text": [
      "\n",
      "\u001b[41mS\u001b[0mFFF\n",
      "FHFH\n",
      "FFFH\n",
      "HFFG\n",
      "[['LEFT ' 'UP   ' 'RIGHT' 'UP   ']\n",
      " ['LEFT ' 'LEFT ' 'RIGHT' 'LEFT ']\n",
      " ['UP   ' 'DOWN ' 'LEFT ' 'LEFT ']\n",
      " ['LEFT ' 'RIGHT' 'DOWN ' 'LEFT ']]\n"
     ]
    }
   ],
   "source": [
    "# Print the action the agent takes at each state\n",
    "env.reset()\n",
    "env.render()\n",
    "print(np.array([direction[x] for x in np.argmax(q_table, axis=1)]).reshape(4, 4))"
   ]
  },
  {
   "cell_type": "markdown",
   "metadata": {},
   "source": [
    "### Trained Agent in Action\n",
    "Now, let us use this trained agent to play Frozen Lake. Note that due to the slippery ice, the path taken each try would not be the same"
   ]
  },
  {
   "cell_type": "code",
   "execution_count": 21,
   "metadata": {
    "ExecuteTime": {
     "end_time": "2019-04-27T04:35:26.527498Z",
     "start_time": "2019-04-27T04:35:20.840463Z"
    },
    "scrolled": true
   },
   "outputs": [
    {
     "name": "stdout",
     "output_type": "stream",
     "text": [
      "---------EPISODE 0---------\n",
      "\n",
      "\u001b[41mS\u001b[0mFFF\n",
      "FHFH\n",
      "FFFH\n",
      "HFFG\n",
      "  (Left)\n",
      "SFFF\n",
      "\u001b[41mF\u001b[0mHFH\n",
      "FFFH\n",
      "HFFG\n",
      "  (Left)\n",
      "SFFF\n",
      "\u001b[41mF\u001b[0mHFH\n",
      "FFFH\n",
      "HFFG\n",
      "  (Left)\n",
      "SFFF\n",
      "\u001b[41mF\u001b[0mHFH\n",
      "FFFH\n",
      "HFFG\n",
      "  (Left)\n",
      "SFFF\n",
      "\u001b[41mF\u001b[0mHFH\n",
      "FFFH\n",
      "HFFG\n",
      "  (Left)\n",
      "\u001b[41mS\u001b[0mFFF\n",
      "FHFH\n",
      "FFFH\n",
      "HFFG\n",
      "  (Left)\n",
      "\u001b[41mS\u001b[0mFFF\n",
      "FHFH\n",
      "FFFH\n",
      "HFFG\n",
      "  (Left)\n",
      "SFFF\n",
      "\u001b[41mF\u001b[0mHFH\n",
      "FFFH\n",
      "HFFG\n",
      "  (Left)\n",
      "SFFF\n",
      "FHFH\n",
      "\u001b[41mF\u001b[0mFFH\n",
      "HFFG\n",
      "  (Up)\n",
      "SFFF\n",
      "FHFH\n",
      "F\u001b[41mF\u001b[0mFH\n",
      "HFFG\n",
      "  (Down)\n",
      "SFFF\n",
      "FHFH\n",
      "\u001b[41mF\u001b[0mFFH\n",
      "HFFG\n",
      "  (Up)\n",
      "SFFF\n",
      "FHFH\n",
      "\u001b[41mF\u001b[0mFFH\n",
      "HFFG\n",
      "  (Up)\n",
      "SFFF\n",
      "\u001b[41mF\u001b[0mHFH\n",
      "FFFH\n",
      "HFFG\n",
      "  (Left)\n",
      "SFFF\n",
      "\u001b[41mF\u001b[0mHFH\n",
      "FFFH\n",
      "HFFG\n",
      "  (Left)\n",
      "SFFF\n",
      "FHFH\n",
      "\u001b[41mF\u001b[0mFFH\n",
      "HFFG\n",
      "  (Up)\n",
      "SFFF\n",
      "FHFH\n",
      "\u001b[41mF\u001b[0mFFH\n",
      "HFFG\n",
      "  (Up)\n",
      "SFFF\n",
      "\u001b[41mF\u001b[0mHFH\n",
      "FFFH\n",
      "HFFG\n",
      "  (Left)\n",
      "SFFF\n",
      "\u001b[41mF\u001b[0mHFH\n",
      "FFFH\n",
      "HFFG\n",
      "  (Left)\n",
      "SFFF\n",
      "\u001b[41mF\u001b[0mHFH\n",
      "FFFH\n",
      "HFFG\n",
      "  (Left)\n",
      "\u001b[41mS\u001b[0mFFF\n",
      "FHFH\n",
      "FFFH\n",
      "HFFG\n",
      "  (Left)\n",
      "\u001b[41mS\u001b[0mFFF\n",
      "FHFH\n",
      "FFFH\n",
      "HFFG\n",
      "  (Left)\n",
      "\u001b[41mS\u001b[0mFFF\n",
      "FHFH\n",
      "FFFH\n",
      "HFFG\n",
      "  (Left)\n",
      "\u001b[41mS\u001b[0mFFF\n",
      "FHFH\n",
      "FFFH\n",
      "HFFG\n",
      "  (Left)\n",
      "SFFF\n",
      "\u001b[41mF\u001b[0mHFH\n",
      "FFFH\n",
      "HFFG\n",
      "  (Left)\n",
      "\u001b[41mS\u001b[0mFFF\n",
      "FHFH\n",
      "FFFH\n",
      "HFFG\n",
      "  (Left)\n",
      "\u001b[41mS\u001b[0mFFF\n",
      "FHFH\n",
      "FFFH\n",
      "HFFG\n",
      "  (Left)\n",
      "\u001b[41mS\u001b[0mFFF\n",
      "FHFH\n",
      "FFFH\n",
      "HFFG\n",
      "  (Left)\n",
      "\u001b[41mS\u001b[0mFFF\n",
      "FHFH\n",
      "FFFH\n",
      "HFFG\n",
      "  (Left)\n",
      "SFFF\n",
      "\u001b[41mF\u001b[0mHFH\n",
      "FFFH\n",
      "HFFG\n",
      "  (Left)\n",
      "SFFF\n",
      "\u001b[41mF\u001b[0mHFH\n",
      "FFFH\n",
      "HFFG\n",
      "  (Left)\n",
      "SFFF\n",
      "FHFH\n",
      "\u001b[41mF\u001b[0mFFH\n",
      "HFFG\n",
      "  (Up)\n",
      "SFFF\n",
      "FHFH\n",
      "F\u001b[41mF\u001b[0mFH\n",
      "HFFG\n",
      "  (Down)\n",
      "SFFF\n",
      "FHFH\n",
      "\u001b[41mF\u001b[0mFFH\n",
      "HFFG\n",
      "  (Up)\n",
      "SFFF\n",
      "\u001b[41mF\u001b[0mHFH\n",
      "FFFH\n",
      "HFFG\n",
      "  (Left)\n",
      "SFFF\n",
      "FHFH\n",
      "\u001b[41mF\u001b[0mFFH\n",
      "HFFG\n",
      "  (Up)\n",
      "SFFF\n",
      "\u001b[41mF\u001b[0mHFH\n",
      "FFFH\n",
      "HFFG\n",
      "  (Left)\n",
      "\u001b[41mS\u001b[0mFFF\n",
      "FHFH\n",
      "FFFH\n",
      "HFFG\n",
      "  (Left)\n",
      "\u001b[41mS\u001b[0mFFF\n",
      "FHFH\n",
      "FFFH\n",
      "HFFG\n",
      "  (Left)\n",
      "SFFF\n",
      "\u001b[41mF\u001b[0mHFH\n",
      "FFFH\n",
      "HFFG\n",
      "  (Left)\n",
      "SFFF\n",
      "FHFH\n",
      "\u001b[41mF\u001b[0mFFH\n",
      "HFFG\n",
      "  (Up)\n",
      "SFFF\n",
      "\u001b[41mF\u001b[0mHFH\n",
      "FFFH\n",
      "HFFG\n",
      "  (Left)\n",
      "SFFF\n",
      "FHFH\n",
      "\u001b[41mF\u001b[0mFFH\n",
      "HFFG\n",
      "  (Up)\n",
      "SFFF\n",
      "FHFH\n",
      "F\u001b[41mF\u001b[0mFH\n",
      "HFFG\n",
      "  (Down)\n",
      "SFFF\n",
      "FHFH\n",
      "\u001b[41mF\u001b[0mFFH\n",
      "HFFG\n",
      "  (Up)\n",
      "SFFF\n",
      "FHFH\n",
      "F\u001b[41mF\u001b[0mFH\n",
      "HFFG\n",
      "  (Down)\n",
      "SFFF\n",
      "FHFH\n",
      "FFFH\n",
      "H\u001b[41mF\u001b[0mFG\n",
      "  (Right)\n",
      "SFFF\n",
      "FHFH\n",
      "FFFH\n",
      "H\u001b[41mF\u001b[0mFG\n",
      "  (Right)\n",
      "SFFF\n",
      "FHFH\n",
      "FFFH\n",
      "H\u001b[41mF\u001b[0mFG\n",
      "  (Right)\n",
      "SFFF\n",
      "FHFH\n",
      "F\u001b[41mF\u001b[0mFH\n",
      "HFFG\n",
      "  (Down)\n",
      "SFFF\n",
      "FHFH\n",
      "FFFH\n",
      "H\u001b[41mF\u001b[0mFG\n",
      "  (Right)\n",
      "SFFF\n",
      "FHFH\n",
      "FFFH\n",
      "H\u001b[41mF\u001b[0mFG\n",
      "  (Right)\n",
      "SFFF\n",
      "FHFH\n",
      "FFFH\n",
      "H\u001b[41mF\u001b[0mFG\n",
      "  (Right)\n",
      "SFFF\n",
      "FHFH\n",
      "FFFH\n",
      "HF\u001b[41mF\u001b[0mG\n",
      "  (Down)\n",
      "SFFF\n",
      "FHFH\n",
      "FFFH\n",
      "H\u001b[41mF\u001b[0mFG\n",
      "  (Right)\n",
      "SFFF\n",
      "FHFH\n",
      "F\u001b[41mF\u001b[0mFH\n",
      "HFFG\n",
      "  (Down)\n",
      "SFFF\n",
      "FHFH\n",
      "FFFH\n",
      "H\u001b[41mF\u001b[0mFG\n",
      "  (Right)\n",
      "SFFF\n",
      "FHFH\n",
      "FFFH\n",
      "HF\u001b[41mF\u001b[0mG\n",
      "  (Down)\n",
      "SFFF\n",
      "FHFH\n",
      "FFFH\n",
      "HF\u001b[41mF\u001b[0mG\n",
      "  (Down)\n",
      "SFFF\n",
      "FHFH\n",
      "FFFH\n",
      "H\u001b[41mF\u001b[0mFG\n",
      "  (Right)\n",
      "SFFF\n",
      "FHFH\n",
      "FFFH\n",
      "H\u001b[41mF\u001b[0mFG\n",
      "  (Right)\n",
      "SFFF\n",
      "FHFH\n",
      "FFFH\n",
      "H\u001b[41mF\u001b[0mFG\n",
      "  (Right)\n",
      "SFFF\n",
      "FHFH\n",
      "FFFH\n",
      "H\u001b[41mF\u001b[0mFG\n",
      "  (Right)\n",
      "SFFF\n",
      "FHFH\n",
      "F\u001b[41mF\u001b[0mFH\n",
      "HFFG\n",
      "  (Down)\n",
      "SFFF\n",
      "FHFH\n",
      "\u001b[41mF\u001b[0mFFH\n",
      "HFFG\n",
      "  (Up)\n",
      "SFFF\n",
      "FHFH\n",
      "F\u001b[41mF\u001b[0mFH\n",
      "HFFG\n",
      "  (Down)\n",
      "SFFF\n",
      "FHFH\n",
      "\u001b[41mF\u001b[0mFFH\n",
      "HFFG\n",
      "  (Up)\n",
      "SFFF\n",
      "\u001b[41mF\u001b[0mHFH\n",
      "FFFH\n",
      "HFFG\n",
      "  (Left)\n",
      "\u001b[41mS\u001b[0mFFF\n",
      "FHFH\n",
      "FFFH\n",
      "HFFG\n",
      "  (Left)\n",
      "SFFF\n",
      "\u001b[41mF\u001b[0mHFH\n",
      "FFFH\n",
      "HFFG\n",
      "  (Left)\n",
      "SFFF\n",
      "\u001b[41mF\u001b[0mHFH\n",
      "FFFH\n",
      "HFFG\n",
      "  (Left)\n",
      "SFFF\n",
      "FHFH\n",
      "\u001b[41mF\u001b[0mFFH\n",
      "HFFG\n",
      "  (Up)\n",
      "SFFF\n",
      "FHFH\n",
      "\u001b[41mF\u001b[0mFFH\n",
      "HFFG\n",
      "  (Up)\n",
      "SFFF\n",
      "FHFH\n",
      "\u001b[41mF\u001b[0mFFH\n",
      "HFFG\n",
      "  (Up)\n",
      "SFFF\n",
      "FHFH\n",
      "\u001b[41mF\u001b[0mFFH\n",
      "HFFG\n",
      "  (Up)\n",
      "SFFF\n",
      "\u001b[41mF\u001b[0mHFH\n",
      "FFFH\n",
      "HFFG\n",
      "  (Left)\n",
      "SFFF\n",
      "\u001b[41mF\u001b[0mHFH\n",
      "FFFH\n",
      "HFFG\n",
      "  (Left)\n",
      "SFFF\n",
      "\u001b[41mF\u001b[0mHFH\n",
      "FFFH\n",
      "HFFG\n",
      "  (Left)\n",
      "SFFF\n",
      "FHFH\n",
      "\u001b[41mF\u001b[0mFFH\n",
      "HFFG\n",
      "  (Up)\n",
      "SFFF\n",
      "\u001b[41mF\u001b[0mHFH\n",
      "FFFH\n",
      "HFFG\n",
      "  (Left)\n",
      "SFFF\n",
      "FHFH\n",
      "\u001b[41mF\u001b[0mFFH\n",
      "HFFG\n",
      "  (Up)\n",
      "SFFF\n",
      "FHFH\n",
      "\u001b[41mF\u001b[0mFFH\n",
      "HFFG\n",
      "  (Up)\n",
      "SFFF\n",
      "\u001b[41mF\u001b[0mHFH\n",
      "FFFH\n",
      "HFFG\n",
      "  (Left)\n",
      "SFFF\n",
      "\u001b[41mF\u001b[0mHFH\n",
      "FFFH\n",
      "HFFG\n",
      "  (Left)\n",
      "SFFF\n",
      "FHFH\n",
      "\u001b[41mF\u001b[0mFFH\n",
      "HFFG\n",
      "  (Up)\n",
      "SFFF\n",
      "\u001b[41mF\u001b[0mHFH\n",
      "FFFH\n",
      "HFFG\n",
      "  (Left)\n",
      "\u001b[41mS\u001b[0mFFF\n",
      "FHFH\n",
      "FFFH\n",
      "HFFG\n",
      "  (Left)\n",
      "SFFF\n",
      "\u001b[41mF\u001b[0mHFH\n",
      "FFFH\n",
      "HFFG\n",
      "  (Left)\n",
      "SFFF\n",
      "FHFH\n",
      "\u001b[41mF\u001b[0mFFH\n",
      "HFFG\n",
      "  (Up)\n",
      "SFFF\n",
      "FHFH\n",
      "F\u001b[41mF\u001b[0mFH\n",
      "HFFG\n",
      "  (Down)\n",
      "SFFF\n",
      "FHFH\n",
      "FF\u001b[41mF\u001b[0mH\n",
      "HFFG\n",
      "  (Left)\n",
      "SFFF\n",
      "FHFH\n",
      "F\u001b[41mF\u001b[0mFH\n",
      "HFFG\n",
      "  (Down)\n",
      "SFFF\n",
      "FHFH\n",
      "FFFH\n",
      "H\u001b[41mF\u001b[0mFG\n",
      "  (Right)\n",
      "SFFF\n",
      "FHFH\n",
      "FFFH\n",
      "HF\u001b[41mF\u001b[0mG\n",
      "  (Down)\n",
      "SFFF\n",
      "FHFH\n",
      "FFFH\n",
      "H\u001b[41mF\u001b[0mFG\n",
      "  (Right)\n",
      "SFFF\n",
      "FHFH\n",
      "FFFH\n",
      "H\u001b[41mF\u001b[0mFG\n",
      "  (Right)\n",
      "SFFF\n",
      "FHFH\n",
      "FFFH\n",
      "H\u001b[41mF\u001b[0mFG\n",
      "  (Right)\n",
      "SFFF\n",
      "FHFH\n",
      "FFFH\n",
      "HF\u001b[41mF\u001b[0mG\n",
      "  (Down)\n",
      "SFFF\n",
      "FHFH\n",
      "FFFH\n",
      "HFF\u001b[41mG\u001b[0m\n",
      "SUCCESS!!!\n",
      "Success Percentage = 70.76 %\n",
      "Average number of steps taken to reach the goal = 40.46\n"
     ]
    }
   ],
   "source": [
    "n, max_steps = 10000, 100\n",
    "count, num_prints = 0, 1\n",
    "rewards = []\n",
    "num_steps = []\n",
    "for episode in range(n):\n",
    "    s = env.reset()\n",
    "    total_reward = 0\n",
    "    if count<num_prints:\n",
    "        print('---------EPISODE {}---------'.format(episode))\n",
    "        env.render()\n",
    "    for i in range(max_steps):\n",
    "        a = np.argmax(q_table[s, :])\n",
    "        s, r, done, info = env.step(a)\n",
    "        total_reward+=r\n",
    "        if count<num_prints:\n",
    "            env.render()\n",
    "        if done: \n",
    "            rewards.append(total_reward)\n",
    "            num_steps.append(i+1)\n",
    "            if count<num_prints: \n",
    "                if r==1:\n",
    "                    print('SUCCESS!!!')\n",
    "                else:\n",
    "                    print('Failed :( )')\n",
    "            count+=1\n",
    "            break\n",
    "env.close()\n",
    "print('Success Percentage = {0:.2f} %'.format(100*np.sum(rewards)/len(rewards)))\n",
    "print('Average number of steps taken to reach the goal = {0:.2f}'.format(np.mean(num_steps)))"
   ]
  },
  {
   "cell_type": "markdown",
   "metadata": {},
   "source": [
    "\n",
    "The agents success rate using this Q-Table is 70.7%! Notice that the average number of steps taken to reach the goal is very high. This is because, the agent takes many conservative steps (for example, moving UP eventhough there it is the boundary wall) to prevent slipping into the hole. "
   ]
  },
  {
   "cell_type": "markdown",
   "metadata": {},
   "source": [
    "## Agent using optimized non-slippery q-table"
   ]
  },
  {
   "cell_type": "markdown",
   "metadata": {},
   "source": [
    "An intersting case to consider would be to assume that the ice werent slippery. In such a case, the agent would directly want to head to the goal. What would the success rate be, if we were to adopt that algorithm wherein the agent ignores the fact that the ice is slippery and blindly head towards the goal (of course, on the frozen ice and avoiding the hole). "
   ]
  },
  {
   "cell_type": "code",
   "execution_count": 22,
   "metadata": {
    "ExecuteTime": {
     "end_time": "2019-04-27T04:36:09.722452Z",
     "start_time": "2019-04-27T04:36:09.707413Z"
    }
   },
   "outputs": [
    {
     "name": "stdout",
     "output_type": "stream",
     "text": [
      "\n",
      "\u001b[41mS\u001b[0mFFF\n",
      "FHFH\n",
      "FFFH\n",
      "HFFG\n",
      "[['DOWN ' 'RIGHT' 'DOWN ' 'LEFT ']\n",
      " ['DOWN ' 'LEFT ' 'DOWN ' 'LEFT ']\n",
      " ['RIGHT' 'DOWN ' 'DOWN ' 'LEFT ']\n",
      " ['LEFT ' 'RIGHT' 'RIGHT' 'LEFT ']]\n"
     ]
    }
   ],
   "source": [
    "q_table_no_slip = np.array([[0, 1, 0, 0], \n",
    "                           [0, 0, 1, 0],\n",
    "                           [0, 1, 0, 0],\n",
    "                           [1, 0, 0, 0],\n",
    "                           [0, 1, 0, 0],\n",
    "                           [0, 0, 0, 0],\n",
    "                           [0, 1, 0, 0],\n",
    "                           [0, 0, 0, 0],\n",
    "                           [0, 0, 1, 0],\n",
    "                           [0, 1, 0, 0],\n",
    "                           [0, 1, 0, 0],\n",
    "                           [0, 0, 0, 0],\n",
    "                           [0, 0, 0, 0],\n",
    "                           [0, 0, 1, 0],\n",
    "                           [0, 0, 1, 0],\n",
    "                           [0, 0, 0, 0],])\n",
    "# Print the action the agent takes at each state\n",
    "env.reset()\n",
    "env.render()\n",
    "print(np.array([direction[x] for x in np.argmax(q_table_no_slip, axis=1)]).reshape(4, 4))"
   ]
  },
  {
   "cell_type": "code",
   "execution_count": 23,
   "metadata": {
    "ExecuteTime": {
     "end_time": "2019-04-27T04:36:10.555686Z",
     "start_time": "2019-04-27T04:36:09.725460Z"
    },
    "code_folding": [],
    "scrolled": true
   },
   "outputs": [
    {
     "name": "stdout",
     "output_type": "stream",
     "text": [
      "Success Percentage = 4.36 %\n",
      "Average number of steps taken to reach the goal = 5.05\n"
     ]
    }
   ],
   "source": [
    "n, max_steps = 10000, 100\n",
    "rewards = []\n",
    "num_steps = []\n",
    "for episode in range(n):\n",
    "    s = env.reset()\n",
    "    total_reward = 0\n",
    "    for i in range(max_steps):\n",
    "        a = np.argmax(q_table_no_slip[s, :])\n",
    "        s, r, done, info = env.step(a)\n",
    "        total_reward+=r\n",
    "        if done: \n",
    "            rewards.append(total_reward)\n",
    "            num_steps.append(i+1)\n",
    "            break\n",
    "env.close()\n",
    "print('Success Percentage = {0:.2f} %'.format(100*np.sum(rewards)/len(rewards)))\n",
    "print('Average number of steps taken to reach the goal = {0:.2f}'.format(np.mean(num_steps)))"
   ]
  },
  {
   "cell_type": "markdown",
   "metadata": {},
   "source": [
    "We see that the success percentage using this q_table designed to take the optimal path if the ice werent slippery, has a very poor success rate. Also, we end up falling into the hole (or reaching the goal with a 4.5% probability) within an average of 5 steps! "
   ]
  },
  {
   "cell_type": "markdown",
   "metadata": {},
   "source": [
    "# Conclusions\n",
    "In this report, we analyzed 3 potential algorithms that the agent can take to reach his goal. Clearly the path he takes \n",
    "* Random Walk\n",
    "    * Success Rate = 1.3%\n",
    "    * Average number of steps = 7.6\n",
    "* Q-table trained on slippery condition: \n",
    "    * Success Rate = 70.7%\n",
    "    * Average number of steps = 40.5\n",
    "* Q-table trained on non-slippery condition:\n",
    "    * Success Rate = 4.9%\n",
    "    * Average number of steps = 5.1\n"
   ]
  }
 ],
 "metadata": {
  "kernelspec": {
   "display_name": "Python 3",
   "language": "python",
   "name": "python3"
  },
  "language_info": {
   "codemirror_mode": {
    "name": "ipython",
    "version": 3
   },
   "file_extension": ".py",
   "mimetype": "text/x-python",
   "name": "python",
   "nbconvert_exporter": "python",
   "pygments_lexer": "ipython3",
   "version": "3.7.0"
  },
  "toc": {
   "base_numbering": 1,
   "nav_menu": {},
   "number_sections": true,
   "sideBar": true,
   "skip_h1_title": false,
   "title_cell": "Table of Contents",
   "title_sidebar": "Contents",
   "toc_cell": false,
   "toc_position": {
    "height": "calc(100% - 180px)",
    "left": "10px",
    "top": "150px",
    "width": "336px"
   },
   "toc_section_display": true,
   "toc_window_display": true
  }
 },
 "nbformat": 4,
 "nbformat_minor": 2
}
